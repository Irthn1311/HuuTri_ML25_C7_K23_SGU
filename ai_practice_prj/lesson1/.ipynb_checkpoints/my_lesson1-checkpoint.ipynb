{
 "cells": [
  {
   "cell_type": "markdown",
   "id": "5f9c44de-f449-498d-a49f-31ffd47e4057",
   "metadata": {},
   "source": [
    "# Thuc hanh tri tue nhan tao Buoi 1\n",
    "\n",
    "## Noi dung thuc hanh"
   ]
  },
  {
   "cell_type": "markdown",
   "id": "18d5f328-8aa6-4c62-a91e-750711ad0397",
   "metadata": {},
   "source": [
    "### In chu ra man hinh"
   ]
  },
  {
   "cell_type": "code",
   "execution_count": 3,
   "id": "4978ee4f-cd62-4a69-99f6-c4aa4978e611",
   "metadata": {},
   "outputs": [
    {
     "name": "stdout",
     "output_type": "stream",
     "text": [
      "Hello, Python World!\n"
     ]
    }
   ],
   "source": [
    "# Lenh 1 - xuat chu ra man hinh\n",
    "print(\"Hello, Python World!\")"
   ]
  },
  {
   "cell_type": "markdown",
   "id": "efc4df95-34a1-416f-8fa7-1b9c36144ab0",
   "metadata": {},
   "source": [
    "### Chay tap tin python"
   ]
  },
  {
   "cell_type": "code",
   "execution_count": 4,
   "id": "f3486323-af4b-4bdb-ab40-15d4a27f9578",
   "metadata": {},
   "outputs": [
    {
     "name": "stdout",
     "output_type": "stream",
     "text": [
      "Hello, Python World!\n"
     ]
    }
   ],
   "source": [
    "!python ex0_hello_world.py"
   ]
  },
  {
   "cell_type": "code",
   "execution_count": 5,
   "id": "7fbaef6f-86ca-4405-b5be-e40731d07c56",
   "metadata": {},
   "outputs": [
    {
     "name": "stdout",
     "output_type": "stream",
     "text": [
      "Hello, Python World!\n"
     ]
    }
   ],
   "source": [
    "%run ex0_hello_world"
   ]
  },
  {
   "cell_type": "markdown",
   "id": "c23ba9e1-e114-4eec-82a7-37dd72d739bf",
   "metadata": {},
   "source": [
    "### Tinh toan don gian"
   ]
  },
  {
   "cell_type": "code",
   "execution_count": 1,
   "id": "d154cb58-429d-4167-83c6-6a13c9e2cdd1",
   "metadata": {},
   "outputs": [
    {
     "name": "stdout",
     "output_type": "stream",
     "text": [
      "Calculator Basic\n",
      "Moi ban nhap so a:  10\n",
      "Moi ban nhap so b:  20\n",
      "c = 10 + 20 = 30\n"
     ]
    }
   ],
   "source": [
    "%run ex1_calc.py"
   ]
  },
  {
   "cell_type": "code",
   "execution_count": 2,
   "id": "58197d21-94a8-4915-8c4c-5951bf5d6d1e",
   "metadata": {},
   "outputs": [
    {
     "name": "stdout",
     "output_type": "stream",
     "text": [
      "Calculator Basic\n",
      "Moi ban nhap so a:  10\n",
      "Moi ban nhap so b:  20\n",
      "c = 10 + 20 = 30\n"
     ]
    }
   ],
   "source": [
    "print(\"Calculator Basic\")\n",
    "a = int(input(\"Moi ban nhap so a: \"))\n",
    "b = int(input(\"Moi ban nhap so b: \"))\n",
    "c = a + b\n",
    "print(\"c = %d + %d = %d\" % (a, b, c))"
   ]
  },
  {
   "cell_type": "markdown",
   "id": "2d4a3468",
   "metadata": {},
   "source": [
    "### Tinh Chu vi và Dien tich hinh tron"
   ]
  },
  {
   "cell_type": "code",
   "execution_count": 1,
   "id": "6613432d",
   "metadata": {},
   "outputs": [
    {
     "name": "stdout",
     "output_type": "stream",
     "text": [
      "=== Tính chu vi và diện tích hình tròn ===\n"
     ]
    },
    {
     "name": "stdin",
     "output_type": "stream",
     "text": [
      "Nhập bán kính r:  4\n"
     ]
    },
    {
     "name": "stdout",
     "output_type": "stream",
     "text": [
      "Chu vi hình tròn: 25.13\n",
      "Diện tích hình tròn: 50.27\n"
     ]
    }
   ],
   "source": [
    "%run ex3_circle.py\n"
   ]
  },
  {
   "cell_type": "markdown",
   "id": "36cbe641-0dad-4e4b-b8f1-84afeeabb937",
   "metadata": {},
   "source": [
    "# Ket Thuc"
   ]
  },
  {
   "cell_type": "code",
   "execution_count": null,
   "id": "68c63a4b-4605-47a4-8359-81adbf573212",
   "metadata": {},
   "outputs": [],
   "source": []
  }
 ],
 "metadata": {
  "kernelspec": {
   "display_name": "Python 3 (ipykernel)",
   "language": "python",
   "name": "python3"
  },
  "language_info": {
   "codemirror_mode": {
    "name": "ipython",
    "version": 3
   },
   "file_extension": ".py",
   "mimetype": "text/x-python",
   "name": "python",
   "nbconvert_exporter": "python",
   "pygments_lexer": "ipython3",
   "version": "3.13.5"
  },
  "toc-autonumbering": false,
  "toc-showmarkdowntxt": false
 },
 "nbformat": 4,
 "nbformat_minor": 5
}
